{
 "cells": [
  {
   "cell_type": "code",
   "execution_count": 9,
   "metadata": {},
   "outputs": [],
   "source": [
    "using PyPlot\n",
    "using LinearAlgebra\n",
    "using SciMLBase\n",
    "using SciMLSensitivity\n",
    "using FFTW\n",
    "using Zygote\n",
    "using OrdinaryDiffEq\n",
    "using ApproxFun\n",
    "using Sundials\n",
    "using DiffEqDevTools\n",
    "using PyCall\n",
    "using ForwardDiff\n",
    "using AbstractFFTs\n",
    "using FiniteDiff\n",
    "using TerminalLoggers\n",
    "using ProgressMeter\n",
    "using Random\n",
    "using MAT\n",
    "using DelimitedFiles\n",
    "using ForwardDiff"
   ]
  },
  {
   "cell_type": "markdown",
   "metadata": {},
   "source": [
    "The functions in the cell below do the following: the first, \"e_drive\" specifies a time-dependent driving electric field (SI units) in terms of an amplitude, a carrier frequency, a pulse duration, and an initial phase. \n",
    "\n",
    "The second, \"phonon_hhg\", instantiates the right-hand-side of the Newton equations governing the time evolution of the position and momentum of an optical phonon mode. The \"a\" parameters are coefficients specifying the nonlinear potential (see von Hoegen et. al. Nature (2018)). The gamma parameter is a dissipation rate which is set to zero in what follows, but can be incorporated in the mean-field dynamics and the quantum noise dynamics. The parameter Z is the Born effective charge."
   ]
  },
  {
   "cell_type": "code",
   "execution_count": 10,
   "metadata": {},
   "outputs": [
    {
     "data": {
      "text/plain": [
       "phonon_hhg (generic function with 1 method)"
      ]
     },
     "execution_count": 10,
     "metadata": {},
     "output_type": "execute_result"
    }
   ],
   "source": [
    "function e_drive(t,e0,τ,ω_d,ϕ)\n",
    "    et = e0*exp(-t^2/τ^2)*sin(ω_d*t+ϕ);\n",
    "    return et\n",
    "end\n",
    "\n",
    "function phonon_hhg(du, u, p, t)\n",
    "    # u[1] = Q1, u[2] = P1, u[3] = Q2, u[4] = P2\n",
    "    \n",
    "    a_2 = p[1];\n",
    "    a_3 = p[2];\n",
    "    a_4 = p[3]; \n",
    "    a_5 = p[4];\n",
    "    Z = p[5];\n",
    "    γ = p[6];\n",
    "    e0 = p[7];\n",
    "    τ = p[8];\n",
    "    ω_d = p[9];\n",
    "    ϕ = p[10];\n",
    "    \n",
    "    du[1] = u[2];\n",
    "    du[2] = -γ*u[2] -a_2*u[1] - a_3*u[1]^2 - a_4*u[1]^3 - a_5*u[1]^4 + Z*e_drive(t,e0,τ,ω_d,ϕ);\n",
    "    \n",
    "    return du\n",
    "end"
   ]
  },
  {
   "cell_type": "markdown",
   "metadata": {},
   "source": [
    "This cell defines parameters relevant to the simulations underlying Figure 2."
   ]
  },
  {
   "cell_type": "code",
   "execution_count": 11,
   "metadata": {},
   "outputs": [],
   "source": [
    "qe = 1.6e-19;\n",
    "ħ = 1.05e-34;\n",
    "amu = 1.66e-27;\n",
    "thz = 1e12;\n",
    "angstrom = 1e-10;\n",
    "mev = 1e-3*qe;\n",
    "mev_frequency = mev/ħ;\n",
    "\n",
    "# time_unit = ω_1;\n",
    "a_2 = 927*mev/angstrom^2/amu\n",
    "ω_ph = sqrt(a_2);\n",
    "Q0 = sqrt(ħ/2/ω_ph);\n",
    "a_3 = 1.0*1567.65*mev/angstrom^3/(amu)^(3/2)\n",
    "a_4 = 1.0*900.8*mev/angstrom^4/amu^2\n",
    "a_5 = 1*7*mev/angstrom^5/(amu)^(5/2);\n",
    "Z = (1)*qe/sqrt(amu);\n",
    "γ = 0*2*π*1e12;\n",
    "\n",
    "e0 = 100*1e8; # volt/meter\n",
    "τ = 1*150e-15;\n",
    "ω_d = 17.5*2π*thz;\n",
    "ϕ = 0;\n",
    "\n",
    "p = [a_2,a_3,a_4,a_5,Z,γ,e0,τ,ω_d,ϕ];"
   ]
  },
  {
   "cell_type": "markdown",
   "metadata": {},
   "source": [
    "The cell below plots the potential assumed. This corresponds to Fig. 2b in the manuscript."
   ]
  },
  {
   "cell_type": "code",
   "execution_count": 12,
   "metadata": {},
   "outputs": [
    {
     "data": {
      "image/png": "[encoded data removed]",
      "text/plain": [
       "Figure(PyObject <Figure size 200x100 with 1 Axes>)"
      ]
     },
     "metadata": {},
     "output_type": "display_data"
    },
    {
     "data": {
      "text/plain": [
       "(0, 1)"
      ]
     },
     "execution_count": 12,
     "metadata": {},
     "output_type": "execute_result"
    }
   ],
   "source": [
    "figure(figsize=(2,1))\n",
    "Q_list = [-2:0.01:1;]*angstrom*sqrt(amu);\n",
    "V_Q = (1/2)*ω_ph^2*Q_list.^2 + (1/3)*a_3*Q_list.^3 + (1/4)*a_4*Q_list.^4 + (1/5)*a_5*Q_list.^5;\n",
    "plot(Q_list / (angstrom*sqrt(amu)),V_Q/qe)\n",
    "xticks([-2,-1,0,1])\n",
    "xlabel(\"Q (Å * √amu)\")\n",
    "ylabel(\"Potential (eV)\")\n",
    "ylim(0,1)"
   ]
  },
  {
   "cell_type": "markdown",
   "metadata": {},
   "source": [
    "The cell below integrates the Newton equations of motion using the DifferentialEquations package in Julia (\"solve\" is the function which integrates the differential equation). The function \"get_soln\" does the same thing, but wraps the process into a single function. The function \"get_x_soln_reduced\" produces $Q,P$ at the final time (t_final) assuming a known t_final and parameter set p. This redefinition of a single-argument function is needed to take derivatives with respect to initial conditions using existing packages in Julia."
   ]
  },
  {
   "cell_type": "code",
   "execution_count": 13,
   "metadata": {},
   "outputs": [],
   "source": [
    "t_final = 15*2*π/ω_d\n",
    "\n",
    "u0 = [0,0]\n",
    "tspan = (0.0, t_final);\n",
    "prob = ODEProblem(phonon_hhg, u0, tspan, p)\n",
    "sol = solve(prob,Rosenbrock23(), abstol=1e-15,saveat=1e-15;);\n",
    "\n",
    "t_final = 15*2*π/ω_d\n",
    "\n",
    "function get_soln(init_conds,t,p)\n",
    "    \n",
    "    tspan = (0.0, t)\n",
    "    prob = ODEProblem(phonon_hhg, init_conds, tspan, p)\n",
    "    sol = solve(prob,Rosenbrock23(), abstol=1e-15);\n",
    "    q_out = sol.u[end][1];\n",
    "    p_out = sol.u[end][2];\n",
    "    X = [q_out p_out]\n",
    "    \n",
    "    return real(X)\n",
    "end\n",
    "\n",
    "get_x_soln_reduced(x) = get_soln(x,t_final,p);"
   ]
  },
  {
   "cell_type": "markdown",
   "metadata": {},
   "source": [
    "The cell below uses the quantum sensitivity analysis framework to compute the position and momentum variances as a function of time, corresponding to Fig. 2d."
   ]
  },
  {
   "cell_type": "code",
   "execution_count": 14,
   "metadata": {},
   "outputs": [],
   "source": [
    "t_final_list = [0.0:0.01:1.5;]*2*π/ω_ph;\n",
    "nt = length(t_final_list)\n",
    "\n",
    "x_final_list = zeros(nt);\n",
    "p_final_list = zeros(nt);\n",
    "dx2_final_list = zeros(nt);\n",
    "dp2_final_list = zeros(nt);\n",
    "\n",
    "# mean position assumed for the ground state. The mean momentum is also addumed to be zero.\n",
    "x_init_gs = 0.0;\n",
    "p_init_gs = 0.0;\n",
    "\n",
    "# variances of X and P for the ground state.\n",
    "x2t_gs = 1.0;\n",
    "p2t_gs = 1.0;\n",
    "\n",
    "# For each time, we find the final classical X and P, and using ForwardDiff.jacobian, compute the derivative\n",
    "# of the final X and P with respect to the initial conditions. The quadrature sum rule in the manuscript then\n",
    "# allows us to get the final variances.\n",
    "\n",
    "for ii = 1:nt\n",
    "    t_final = t_final_list[ii];\n",
    "    final_state = get_soln([x_init_gs, 0.0],t_final,p);\n",
    "    x_final_list[ii] = final_state[1];\n",
    "    p_final_list[ii] = final_state[2];\n",
    "    get_x_soln_reduced(x) = get_soln(x,t_final,p);\n",
    "    hhg_jacobian = ForwardDiff.jacobian(get_x_soln_reduced,[x_init_gs, p_init_gs])\n",
    "    dx2=abs(hhg_jacobian[1,1])^2 * x2t_gs + abs(hhg_jacobian[1,2])^2 * ω_ph^2 * p2t_gs;\n",
    "    dp2=abs(hhg_jacobian[2,1])^2 / ω_ph^2 * x2t_gs + abs(hhg_jacobian[2,2])^2 * p2t_gs;\n",
    "    dx2_final_list[ii] = dx2;\n",
    "    dp2_final_list[ii] = dp2;\n",
    "end"
   ]
  },
  {
   "cell_type": "code",
   "execution_count": 15,
   "metadata": {},
   "outputs": [
    {
     "data": {
      "image/png": "[encoded data removed]",
      "text/plain": [
       "Figure(PyObject <Figure size 200x200 with 1 Axes>)"
      ]
     },
     "metadata": {},
     "output_type": "display_data"
    },
    {
     "data": {
      "text/plain": [
       "PyObject Text(24.000000000000007, 0.5, 'Noise relative to vacuum')"
      ]
     },
     "execution_count": 15,
     "metadata": {},
     "output_type": "execute_result"
    }
   ],
   "source": [
    "# The commented out lines place markers over certain points on the curve, some of which \n",
    "# are labeled by letters in the main text. I also comment out a line that saves the figure.\n",
    "\n",
    "#dd = 11;\n",
    "figure(figsize=(2,2))\n",
    "#semilogy(1e15*t_final_list[1:dd:end],dx2_final_list[1:dd:end],\"o\",color=\"b\")\n",
    "semilogy(1e15*t_final_list,dx2_final_list,color=\"b\")\n",
    "#semilogy(1e15*t_final_list[1:dd:end],dp2_final_list[1:dd:end],\"o\",color=\"r\")\n",
    "semilogy(1e15*t_final_list,dp2_final_list,color=\"r\")\n",
    "#savefig(\"phonon_hhg_squeezing.svg\",dpi=300,bbox_inches=\"tight\");\n",
    "xlabel(\"Time (fs)\")\n",
    "ylabel(\"Noise relative to vacuum\")"
   ]
  },
  {
   "cell_type": "markdown",
   "metadata": {},
   "source": [
    "This cell makes Fig. 2c, by: plotting the mean-field solution in phase-space (black line), and also plotting at the evolution of a distribution of n_itr=200 initial conditions around (Q,P) = (0,0). This spread represents the effect of quantum vacuum fluctuations, with variances representative of the ground state of the quantum harmonic oscillator. The resulting distributions after nonlinear evolution are plotted for 6 times at times with indices given by t_inds. "
   ]
  },
  {
   "cell_type": "code",
   "execution_count": 16,
   "metadata": {},
   "outputs": [
    {
     "data": {
      "image/png": "[encoded data removed]",
      "text/plain": [
       "Figure(PyObject <Figure size 200x200 with 1 Axes>)"
      ]
     },
     "metadata": {},
     "output_type": "display_data"
    }
   ],
   "source": [
    "Random.seed!(1234)\n",
    "# Defines number of initial conditions\n",
    "n_itr = 200;\n",
    "\n",
    "# Resets parameters and final time\n",
    "p = [a_2,a_3,a_4,a_5,Z,γ,e0,τ,ω_d,ϕ];\n",
    "\n",
    "t_final = 1.5*2*π/ω_ph\n",
    "dt_final = t_final_list[2] - t_final_list[1];\n",
    "\n",
    "# Solves for mean-field dynamics\n",
    "u0 = [0,0]\n",
    "tspan = (0.0, t_final);\n",
    "prob = ODEProblem(phonon_hhg, u0, tspan, p)\n",
    "sol = solve(prob,Rosenbrock23(), abstol=1e-15,saveat=dt_final;);\n",
    "\n",
    "# Plots the black line\n",
    "t_out = sol.t;\n",
    "q_out = [sol.u[ii][1] for ii = 1:length(sol.u)]/angstrom/sqrt(amu);\n",
    "p_out = [sol.u[ii][2] for ii = 1:length(sol.u)]/ω_ph/angstrom/sqrt(amu);\n",
    "\n",
    "figure(figsize=(2,2))\n",
    "plot(q_out,p_out,color=\"k\",alpha=1)\n",
    "\n",
    "# Sets times to plot the evolved distribution\n",
    "t_inds = [1 56 78 100 111 122]\n",
    "\n",
    "# Solves for and plots the distribution of initial conditions after nonlinear evolution for the times\n",
    "# whose indices are in t_inds.\n",
    "\n",
    "for ii=1:n_itr;\n",
    "\n",
    "    u0 = [Q0*randn(),ω_ph*Q0*randn()]\n",
    "    tspan = (0.0, t_final);\n",
    "    prob = ODEProblem(phonon_hhg, u0, tspan, p)\n",
    "    sol_1 = solve(prob,Rosenbrock23(), abstol=1e-15,saveat=dt_final;);\n",
    "\n",
    "    t_out_1 = sol_1.t;\n",
    "    q_out_1 = [sol_1.u[ii][1] for ii = 1:length(sol_1.u)]/angstrom/sqrt(amu);\n",
    "    p_out_1 = [sol_1.u[ii][2] for ii = 1:length(sol_1.u)]/ω_ph/angstrom/sqrt(amu);\n",
    "\n",
    "    scatter(q_out_1[t_inds],p_out_1[t_inds],c=t_out_1[t_inds]*1e15,linewidths=1,cmap=\"Spectral\",alpha=0.5)\n",
    "    xlim(-4,4)\n",
    "    ylim(-4,4)\n",
    "    xticks([-4,-2,0,2,4])\n",
    "    yticks([-4,-2,0,2,4])\n",
    "    #colorbar()\n",
    "    \n",
    "end\n",
    "xlabel(\"Q (Å * √amu)\")\n",
    "ylabel(\"P/ω₀ (Å * √amu)\")\n",
    "#colorbar()\n",
    "#savefig(\"qsa_trajectories_phonon_hhg.png\",dpi=600,bbox_inches=\"tight\");"
   ]
  }
 ],
 "metadata": {
  "kernelspec": {
   "display_name": "Julia 1.6.7",
   "language": "julia",
   "name": "julia-1.6"
  },
  "language_info": {
   "file_extension": ".jl",
   "mimetype": "application/julia",
   "name": "julia",
   "version": "1.6.7"
  }
 },
 "nbformat": 4,
 "nbformat_minor": 2
}
